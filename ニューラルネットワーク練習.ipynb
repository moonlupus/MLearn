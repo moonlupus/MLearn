{
 "cells": [
  {
   "cell_type": "markdown",
   "metadata": {},
   "source": [
    "# ニューラルネットワークの最適化"
   ]
  },
  {
   "cell_type": "markdown",
   "metadata": {},
   "source": [
    "交差エントロピーはニューラルネットワークの目的関数（つまり、モデルの最適化を行う指標となる関数）の一種である。\n",
    "ニューラルネットワークは全パラメーターを設定して、出力させた後で、出力結果を基としてパラメーターを微調整して、を繰り返す事で学習する。\n",
    "以下に例を示す"
   ]
  },
  {
   "cell_type": "code",
   "execution_count": 1,
   "metadata": {},
   "outputs": [],
   "source": [
    "import numpy as np\n",
    "# input\n",
    "x = np.array([2,3,1])\n",
    "\n",
    "#correct answer\n",
    "t = np.array([20])"
   ]
  },
  {
   "cell_type": "markdown",
   "metadata": {},
   "source": [
    "例えば、一つの入力例では、上の入力と出力がある。すなわち、３っつの変数入力に対して、一つの出力があり、中間層には２つのノードがある。"
   ]
  },
  {
   "cell_type": "code",
   "execution_count": 3,
   "metadata": {},
   "outputs": [],
   "source": [
    "w1 = np.array([[3,1,2],[-2,-3,-1]])\n",
    "b1 = np.array([0,0])\n",
    "w2 = np.array([[3,2]])\n",
    "b2 = np.array([0])"
   ]
  },
  {
   "cell_type": "markdown",
   "metadata": {},
   "source": [
    "この例では、1-2の間の初期暫定パラメーターがw１、バイアスがb１となっている。2-3も同様にw2,b2である。"
   ]
  },
  {
   "cell_type": "code",
   "execution_count": null,
   "metadata": {},
   "outputs": [],
   "source": [
    "　　u1 = w1.dot(x) + b1"
   ]
  }
 ],
 "metadata": {
  "kernelspec": {
   "display_name": "Python 3",
   "language": "python",
   "name": "python3"
  },
  "language_info": {
   "codemirror_mode": {
    "name": "ipython",
    "version": 3
   },
   "file_extension": ".py",
   "mimetype": "text/x-python",
   "name": "python",
   "nbconvert_exporter": "python",
   "pygments_lexer": "ipython3",
   "version": "3.7.0"
  }
 },
 "nbformat": 4,
 "nbformat_minor": 2
}
