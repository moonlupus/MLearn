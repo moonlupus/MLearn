{
 "cells": [
  {
   "cell_type": "markdown",
   "metadata": {},
   "source": [
    "# トレーニングとして、MNISTのネットワークを計算する。これは、chainerに含まれているデータそのものである。"
   ]
  },
  {
   "cell_type": "code",
   "execution_count": 1,
   "metadata": {},
   "outputs": [],
   "source": [
    "from chainer.datasets import mnist\n",
    "train_val,test = mnist.get_mnist(withlabel=True,ndim=1)"
   ]
  },
  {
   "cell_type": "code",
   "execution_count": 2,
   "metadata": {},
   "outputs": [
    {
     "data": {
      "image/png": "[encoded data removed]",
      "text/plain": [
       "<Figure size 432x288 with 1 Axes>"
      ]
     },
     "metadata": {
      "needs_background": "light"
     },
     "output_type": "display_data"
    },
    {
     "name": "stdout",
     "output_type": "stream",
     "text": [
      "label: 5\n"
     ]
    }
   ],
   "source": [
    "%matplotlib inline\n",
    "import matplotlib.pyplot as plt\n",
    "x,t =train_val[0]\n",
    "plt.imshow(x.reshape(28,28),cmap=\"gray\")\n",
    "plt.axis(\"off\")\n",
    "plt.show()\n",
    "print(\"label:\",t)"
   ]
  },
  {
   "cell_type": "markdown",
   "metadata": {},
   "source": [
    "データは通常、training,validation,testの三つに分割されていく。chainerにはその分割のための関数が含まれている。"
   ]
  },
  {
   "cell_type": "code",
   "execution_count": 4,
   "metadata": {},
   "outputs": [
    {
     "name": "stdout",
     "output_type": "stream",
     "text": [
      "50000\n",
      "10000\n"
     ]
    }
   ],
   "source": [
    "from chainer.datasets import split_dataset_random\n",
    "train,valid = split_dataset_random(train_val,50000,seed=0)\n",
    "print(len(train))\n",
    "print(len(valid))"
   ]
  },
  {
   "cell_type": "markdown",
   "metadata": {},
   "source": [
    "iteratorとは学習データを束ねて学習モデルに渡す装置である。言ってしまえば、入力データを複数行ずつ分割する機能である。この分割されたデータセットをバッチ（ミニバッチ）と呼ぶ。また、全てのデータを学習し終えた時点のことを１エポックと呼ぶ。"
   ]
  },
  {
   "cell_type": "code",
   "execution_count": 5,
   "metadata": {},
   "outputs": [],
   "source": [
    "from chainer import iterators\n",
    "batchsize = 128\n",
    "train_iter = iterators.SerialIterator(train,batchsize)\n",
    "valid_iter = iterators.SerialIterator(valid,batchsize,repeat=False,shuffle=False)\n",
    "test_iter = iterators.SerialIterator(test,batchsize,repeat=False,shuffle=False)"
   ]
  },
  {
   "cell_type": "markdown",
   "metadata": {},
   "source": [
    "chainerにはパラメーターを持つ関数としてlink、持たない関数としてfunctionが用意されている。これを事前に用意しておくととっても便利。"
   ]
  },
  {
   "cell_type": "code",
   "execution_count": 10,
   "metadata": {},
   "outputs": [
    {
     "data": {
      "text/plain": [
       "128"
      ]
     },
     "execution_count": 10,
     "metadata": {},
     "output_type": "execute_result"
    }
   ],
   "source": [
    "import chainer\n",
    "import chainer.links as Link\n",
    "import chainer.functions as Func"
   ]
  },
  {
   "cell_type": "code",
   "execution_count": null,
   "metadata": {},
   "outputs": [],
   "source": []
  }
 ],
 "metadata": {
  "kernelspec": {
   "display_name": "Python 3",
   "language": "python",
   "name": "python3"
  },
  "language_info": {
   "codemirror_mode": {
    "name": "ipython",
    "version": 3
   },
   "file_extension": ".py",
   "mimetype": "text/x-python",
   "name": "python",
   "nbconvert_exporter": "python",
   "pygments_lexer": "ipython3",
   "version": "3.7.0"
  }
 },
 "nbformat": 4,
 "nbformat_minor": 2
}
